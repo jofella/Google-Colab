{
  "nbformat": 4,
  "nbformat_minor": 0,
  "metadata": {
    "colab": {
      "provenance": [],
      "authorship_tag": "ABX9TyMqLd9A+uvfSIF8HTpp/spR",
      "include_colab_link": true
    },
    "kernelspec": {
      "name": "python3",
      "display_name": "Python 3"
    },
    "language_info": {
      "name": "python"
    }
  },
  "cells": [
    {
      "cell_type": "markdown",
      "metadata": {
        "id": "view-in-github",
        "colab_type": "text"
      },
      "source": [
        "<a href=\"https://colab.research.google.com/github/jofella/Google-Colab/blob/main/Traiding_Ultimate_Loss.ipynb\" target=\"_parent\"><img src=\"https://colab.research.google.com/assets/colab-badge.svg\" alt=\"Open In Colab\"/></a>"
      ]
    },
    {
      "cell_type": "markdown",
      "source": [
        "# **Montecarlo simulations/analysis for finance (Equity)**\n",
        "based on https://github.com/gaugau3000/mc_sim_fin"
      ],
      "metadata": {
        "id": "YL6tbAcPWN8X"
      }
    },
    {
      "cell_type": "code",
      "execution_count": 3,
      "metadata": {
        "colab": {
          "base_uri": "https://localhost:8080/"
        },
        "id": "WQTqn1aDV8cH",
        "outputId": "4366086a-2a2f-4bff-bc53-a484f579b94d"
      },
      "outputs": [
        {
          "output_type": "stream",
          "name": "stdout",
          "text": [
            "Collecting mc-sim-fin\n",
            "  Downloading mc-sim-fin-1.0.0.tar.gz (5.8 kB)\n",
            "  Preparing metadata (setup.py) ... \u001b[?25l\u001b[?25hdone\n",
            "Requirement already satisfied: pandas in /usr/local/lib/python3.10/dist-packages (from mc-sim-fin) (1.5.3)\n",
            "Requirement already satisfied: python-dateutil>=2.8.1 in /usr/local/lib/python3.10/dist-packages (from pandas->mc-sim-fin) (2.8.2)\n",
            "Requirement already satisfied: pytz>=2020.1 in /usr/local/lib/python3.10/dist-packages (from pandas->mc-sim-fin) (2022.7.1)\n",
            "Requirement already satisfied: numpy>=1.21.0 in /usr/local/lib/python3.10/dist-packages (from pandas->mc-sim-fin) (1.22.4)\n",
            "Requirement already satisfied: six>=1.5 in /usr/local/lib/python3.10/dist-packages (from python-dateutil>=2.8.1->pandas->mc-sim-fin) (1.16.0)\n",
            "Building wheels for collected packages: mc-sim-fin\n",
            "  Building wheel for mc-sim-fin (setup.py) ... \u001b[?25l\u001b[?25hdone\n",
            "  Created wheel for mc-sim-fin: filename=mc_sim_fin-1.0.0-py3-none-any.whl size=6355 sha256=644e22cd6e8ca7de8a27fe52128f7c9322d1847f3478a91de71a129e0823733d\n",
            "  Stored in directory: /root/.cache/pip/wheels/21/a5/86/4a13cfac89c54eedb1d181f70142c7b12929857d96e3dc7a11\n",
            "Successfully built mc-sim-fin\n",
            "Installing collected packages: mc-sim-fin\n",
            "Successfully installed mc-sim-fin-1.0.0\n"
          ]
        }
      ],
      "source": [
        "#Installing packages\n",
        "!pip install mc-sim-fin"
      ]
    },
    {
      "cell_type": "code",
      "source": [
        "#Import packages\n",
        "import pandas as pd\n",
        "import numpy as np\n",
        "from mc_sim_fin.mc import mc_analysis"
      ],
      "metadata": {
        "id": "eh2X4WmhWjZm"
      },
      "execution_count": 6,
      "outputs": []
    },
    {
      "cell_type": "code",
      "source": [
        "#Set basis parameters\n",
        "date_results = pd.date_range(start=\"1/1/2017\", end=\"31/12/2017\").tolist()\n",
        "profit_results = np.resize([200, -150], 365)\n",
        "\n",
        "results = pd.DataFrame({\"date_results\": date_results, \"profit_results\": profit_results})\n",
        "\n",
        "mc_sims_results = mc_analysis(results, start_equity=5000, ruin_equity=4000)\n",
        "print(mc_sims_results)\n",
        "\n",
        "#print output\n",
        "{\n",
        "'risk_of_ruin_percent': 0.156,\n",
        "'med_max_drawdown_percent': 0.36,\n",
        "'med_profit_percent': 1.83,\n",
        "'prob_profit_is_positive': 0.9979\n",
        "}"
      ],
      "metadata": {
        "colab": {
          "base_uri": "https://localhost:8080/"
        },
        "id": "CWVw_pVSXR2p",
        "outputId": "b30ee238-ef0b-4f2a-9fc6-8dd55bb2495b"
      },
      "execution_count": 11,
      "outputs": [
        {
          "output_type": "stream",
          "name": "stderr",
          "text": [
            "<ipython-input-11-e89a33b06e99>:2: UserWarning: Parsing dates in DD/MM/YYYY format when dayfirst=False (the default) was specified. This may lead to inconsistently parsed dates! Specify a format to ensure consistent parsing.\n",
            "  date_results = pd.date_range(start=\"1/1/2017\", end=\"31/12/2017\").tolist()\n"
          ]
        },
        {
          "output_type": "stream",
          "name": "stdout",
          "text": [
            "{'risk_of_ruin_percent': 0.158, 'med_max_drawdown_percent': 0.36, 'med_profit_percent': 1.9, 'prob_profit_is_positive': 0.9984}\n"
          ]
        },
        {
          "output_type": "execute_result",
          "data": {
            "text/plain": [
              "{'risk_of_ruin_percent': 0.156,\n",
              " 'med_max_drawdown_percent': 0.36,\n",
              " 'med_profit_percent': 1.83,\n",
              " 'prob_profit_is_positive': 0.9979}"
            ]
          },
          "metadata": {},
          "execution_count": 11
        }
      ]
    }
  ]
}